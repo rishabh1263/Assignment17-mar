{
 "cells": [
  {
   "cell_type": "markdown",
   "id": "1d14ce70",
   "metadata": {},
   "source": [
    "Why is it important to handle missing values in dataset?\n",
    "Many machine learning algorithms fail if the dataset contains missing values. However, algorithms like K-nearest and Naive Bayes support data with missing values. You may end up building a biased machine learning model, leading to incorrect results if the missing values are not handled properly.\n",
    "\n",
    "What are missing values in dataset?\n",
    "Missing data, or missing values, occur when you don't have data stored for certain variables or participants. Data can go missing due to incomplete data entry, equipment malfunctions, lost files, and many other reasons. In any dataset, there are usually some missing data\n",
    "\n",
    "What algorithms can handle missing values?\n",
    "Other algorithms that natively support missing values:\n",
    "\n",
    "k-NN and Random Forest algorithms can also support missing values. the k-NN algorithm considers the missing values by taking the majority of the K nearest values"
   ]
  },
  {
   "cell_type": "markdown",
   "id": "c9d81618",
   "metadata": {},
   "source": [
    "##q2:\n",
    "How to Handle Missing Data with Python\n",
    "by Jason Brownlee on March 20, 2017 in Data Preparation\n",
    "Tweet Tweet  Share\n",
    "Last Updated on August 28, 2020\n",
    "\n",
    "Real-world data often has missing values.\n",
    "\n",
    "Data can have missing values for a number of reasons such as observations that were not recorded and data corruption.\n",
    "\n",
    "Handling missing data is important as many machine learning algorithms do not support data with missing values.\n",
    "\n",
    "In this tutorial, you will discover how to handle missing data for machine learning with Python.\n",
    "\n",
    "Specifically, after completing this tutorial you will know:\n",
    "\n",
    "How to marking invalid or corrupt values as missing in your dataset.\n",
    "How to remove rows with missing data from your dataset.\n",
    "How to impute missing values with mean values in your dataset.\n",
    "Kick-start your project with my new book Data Preparation for Machine Learning, including step-by-step tutorials and the Python source code files for all examples.\n",
    "\n",
    "Let’s get started.\n",
    "\n",
    "Note: The examples in this post assume that you have Python 3 with Pandas, NumPy and Scikit-Learn installed, specifically scikit-learn version 0.22 or higher. If you need help setting up your environment see this tutorial.\n",
    "\n",
    "Update Mar/2018: Changed link to dataset files.\n",
    "Update Dec/2019: Updated link to dataset to GitHub version.\n",
    "Update May/2020: Updated code examples for API changes. Added references.\n",
    "How to Handle Missing Values with Python\n",
    "How to Handle Missing Values with Python\n",
    "Photo by CoCreatr, some rights reserved.\n",
    "\n",
    "Overview\n",
    "This tutorial is divided into 6 parts:\n",
    "\n",
    "Diabetes Dataset: where we look at a dataset that has known missing values.\n",
    "Mark Missing Values: where we learn how to mark missing values in a dataset.\n",
    "Missing Values Causes Problems: where we see how a machine learning algorithm can fail when it contains missing values.\n",
    "Remove Rows With Missing Values: where we see how to remove rows that contain missing values.\n",
    "Impute Missing Values: where we replace missing values with sensible values.\n",
    "Algorithms that Support Missing Values: where we learn about algorithms that support missing values.\n",
    "First, let’s take a look at our sample dataset with missing values.\n",
    "\n",
    "1. Diabetes Dataset\n",
    "The Diabetes Dataset involves predicting the onset of diabetes within 5 years in given medical details.\n",
    "\n",
    "Dataset File.\n",
    "Dataset Details\n",
    "It is a binary (2-class) classification problem. The number of observations for each class is not balanced. There are 768 observations with 8 input variables and 1 output variable. The variable names are as follows:\n",
    "\n",
    "0. Number of times pregnant.\n",
    "1. Plasma glucose concentration a 2 hours in an oral glucose tolerance test.\n",
    "2. Diastolic blood pressure (mm Hg).\n",
    "3. Triceps skinfold thickness (mm).\n",
    "4. 2-Hour serum insulin (mu U/ml).\n",
    "5. Body mass index (weight in kg/(height in m)^2).\n",
    "6. Diabetes pedigree function.\n",
    "7. Age (years).\n",
    "8. Class variable (0 or 1).\n",
    "The baseline performance of predicting the most prevalent class is a classification accuracy of approximately 65%. Top results achieve a classification accuracy of approximately 77%.\n",
    "\n",
    "A sample of the first 5 rows is listed below.\n",
    "\n",
    "6,148,72,35,0,33.6,0.627,50,1\n",
    "1,85,66,29,0,26.6,0.351,31,0\n",
    "8,183,64,0,0,23.3,0.672,32,1\n",
    "1,89,66,23,94,28.1,0.167,21,0\n",
    "0,137,40,35,168,43.1,2.288,33,1\n",
    "...\n",
    "This dataset is known to have missing values.\n",
    "\n",
    "Specifically, there are missing observations for some columns that are marked as a zero value.\n",
    "\n",
    "We can corroborate this by the definition of those columns and the domain knowledge that a zero value is invalid for those measures, e.g. a zero for body mass index or blood pressure is invalid.\n",
    "\n",
    "Download the dataset from here and save it to your current working directory with the file name pima-indians-diabetes.csv .\n",
    "\n",
    "pima-indians-diabetes.csv\n",
    "Want to Get Started With Data Preparation?\n",
    "Take my free 7-day email crash course now (with sample code).\n",
    "\n",
    "Click to sign-up and also get a free PDF Ebook version of the course.\n",
    "\n",
    "Download Your FREE Mini-Course\n",
    "\n",
    "2. Mark Missing Values\n",
    "Most data has missing values, and the likelihood of having missing values increases with the size of the dataset.\n",
    "\n",
    "Missing data are not rare in real data sets. In fact, the chance that at least one data point is missing increases as the data set size increases.\n",
    "\n",
    "— Page 187, Feature Engineering and Selection, 2019.\n",
    "\n",
    "In this section, we will look at how we can identify and mark values as missing.\n",
    "\n",
    "We can use plots and summary statistics to help identify missing or corrupt data.\n",
    "\n",
    "We can load the dataset as a Pandas DataFrame and print summary statistics on each attribute.\n",
    "\n",
    "# load and summarize the dataset\n",
    "from pandas import read_csv\n",
    "# load the dataset\n",
    "dataset = read_csv('pima-indians-diabetes.csv', header=None)\n",
    "# summarize the dataset\n",
    "print(dataset.describe())"
   ]
  },
  {
   "cell_type": "markdown",
   "id": "81b362ea",
   "metadata": {},
   "source": [
    "##Q3:\n",
    "What happens when data is imbalanced?\n",
    "A classification data set with skewed class proportions is called imbalanced. Classes that make up a large proportion of the data set are called majority classes. Those that make up a smaller proportion are minority classes\n",
    "\n",
    ": Imbalanced data set will lead algorithms to get good results by returning the majority. That will be a problem if you are interested in the minority more. So, balancing is a way to force the algorithm to give more weight to the minority."
   ]
  },
  {
   "cell_type": "markdown",
   "id": "bb7cb1fc",
   "metadata": {},
   "source": [
    "#### Q4:\n",
    "What is up sampling and down sampling?\n",
    "Upsampling and downsampling lab - Rhea\n",
    "Up-Sampling is a \"Zero-Padding Procedure\" that increase the number of samples of a DT signal. More specificals, when up sampling, zeros are added between the samples of a signal. Down-Sampling is to decrease the sample size.\n",
    "\n",
    "What is need for up sampling and down sampling?\n",
    "Upsampling requires a lowpass filter after increasing the data rate, and downsampling requires a lowpass filter before decimation. Therefore, both operations can be accomplished by a single filter with the lower of the two cutoff frequencies.\n"
   ]
  },
  {
   "cell_type": "markdown",
   "id": "e37816d0",
   "metadata": {},
   "source": [
    "#### Q5:\n",
    "SMOTE is an algorithm that performs data augmentation by creating synthetic data points based on the original data points. SMOTE can be seen as an advanced version of oversampling, or as a specific algorithm for data augmentation.\n"
   ]
  },
  {
   "cell_type": "markdown",
   "id": "f7a621da",
   "metadata": {},
   "source": [
    "Outliers are the observations in a dataset that deviate significantly from the rest of the data. In any data science project, it is essential to identify and handle outliers, as they can have a significant impact on many statistical methods, such as means, standard deviations, etc., and the performance of ML models"
   ]
  },
  {
   "cell_type": "markdown",
   "id": "dde3a660",
   "metadata": {},
   "source": [
    "##Q6:\n",
    "How do you handle missing data in data analysis?\n",
    "Mean, Median and Mode\n",
    "\n",
    "This is one of the most common methods of imputing values when dealing with missing data. In cases where there are a small number of missing observations, data scientists can calculate the mean or median of the existing observations open_in_new.\n"
   ]
  },
  {
   "cell_type": "markdown",
   "id": "113ff34c",
   "metadata": {},
   "source": [
    "How do you find the percentage of missing data?\n",
    "To find the percentage of missing values in each column of an R data frame, we can use colMeans function with is.na function. This will find the mean of missing values in each column. After that we can multiply the output with 100 to get the percentage"
   ]
  },
  {
   "cell_type": "markdown",
   "id": "5d4c7393",
   "metadata": {},
   "source": [
    "What would be your strategy to handle a situation indicating an imbalanced dataset?\n",
    "Approach to deal with the imbalanced dataset problem\n",
    "Choose Proper Evaluation Metric. The accuracy of a classifier is the total number of correct predictions by the classifier divided by the total number of predictions. ...\n",
    "Resampling (Oversampling and Undersampling) ...\n",
    "SMOTE. ...\n",
    "BalancedBaggingClassifier. ...\n",
    "Threshold moving."
   ]
  },
  {
   "cell_type": "markdown",
   "id": "c2c1d721",
   "metadata": {},
   "source": [
    "Q9:\n",
    "Which techniques can be used to deal with a dataset having imbalanced classes?\n",
    "When we are using an imbalanced dataset, we can oversample the minority class using replacement. This technique is called oversampling. Similarly, we can randomly delete rows from the majority class to match them with the minority class which is called undersampling."
   ]
  },
  {
   "cell_type": "markdown",
   "id": "ac37c21e",
   "metadata": {},
   "source": [
    "Q11:\n",
    "SMOTE(oversampling technique is the best to use here)"
   ]
  },
  {
   "cell_type": "code",
   "execution_count": null,
   "id": "e9aeb8e6",
   "metadata": {},
   "outputs": [],
   "source": []
  }
 ],
 "metadata": {
  "kernelspec": {
   "display_name": "Python 3 (ipykernel)",
   "language": "python",
   "name": "python3"
  },
  "language_info": {
   "codemirror_mode": {
    "name": "ipython",
    "version": 3
   },
   "file_extension": ".py",
   "mimetype": "text/x-python",
   "name": "python",
   "nbconvert_exporter": "python",
   "pygments_lexer": "ipython3",
   "version": "3.9.13"
  }
 },
 "nbformat": 4,
 "nbformat_minor": 5
}
